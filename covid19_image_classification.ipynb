{
  "nbformat": 4,
  "nbformat_minor": 0,
  "metadata": {
    "colab": {
      "name": "covid19-image-classification.ipynb",
      "provenance": []
    },
    "kernelspec": {
      "name": "python3",
      "display_name": "Python 3"
    },
    "accelerator": "GPU"
  },
  "cells": [
    {
      "cell_type": "code",
      "metadata": {
        "id": "W8jyxmlTukWl",
        "colab_type": "code",
        "colab": {}
      },
      "source": [
        "import tensorflow as tf"
      ],
      "execution_count": 0,
      "outputs": []
    },
    {
      "cell_type": "code",
      "metadata": {
        "id": "_25SpbY1u9SC",
        "colab_type": "code",
        "outputId": "eb3a890d-92b4-42ea-b8ca-75c892081d4e",
        "colab": {
          "base_uri": "https://localhost:8080/",
          "height": 34
        }
      },
      "source": [
        "tf.config.list_physical_devices('GPU')"
      ],
      "execution_count": 2,
      "outputs": [
        {
          "output_type": "execute_result",
          "data": {
            "text/plain": [
              "[PhysicalDevice(name='/physical_device:GPU:0', device_type='GPU')]"
            ]
          },
          "metadata": {
            "tags": []
          },
          "execution_count": 2
        }
      ]
    },
    {
      "cell_type": "markdown",
      "metadata": {
        "id": "TNHNoPCK8s2L",
        "colab_type": "text"
      },
      "source": [
        "**Generating Image Data**"
      ]
    },
    {
      "cell_type": "code",
      "metadata": {
        "id": "rSUl8msUvBob",
        "colab_type": "code",
        "colab": {
          "base_uri": "https://localhost:8080/",
          "height": 34
        },
        "outputId": "1799369a-94f8-4720-d764-aabef8621efa"
      },
      "source": [
        "#Generating image data\n",
        "from keras.preprocessing.image import ImageDataGenerator"
      ],
      "execution_count": 3,
      "outputs": [
        {
          "output_type": "stream",
          "text": [
            "Using TensorFlow backend.\n"
          ],
          "name": "stderr"
        }
      ]
    },
    {
      "cell_type": "code",
      "metadata": {
        "id": "Gjogs2sevUfM",
        "colab_type": "code",
        "colab": {}
      },
      "source": [
        "train_datagen = ImageDataGenerator(\n",
        "                rotation_range = 90,\n",
        "                width_shift_range = 0.5,\n",
        "                height_shift_range = 0.5,\n",
        "                rescale = 1./255,\n",
        "                shear_range = 0.5,\n",
        "                zoom_range = 0.5,\n",
        "                horizontal_flip = True,\n",
        "                fill_mode = 'nearest')"
      ],
      "execution_count": 0,
      "outputs": []
    },
    {
      "cell_type": "code",
      "metadata": {
        "id": "kl4flBe6wWLt",
        "colab_type": "code",
        "colab": {}
      },
      "source": [
        "test_datagen = ImageDataGenerator(rescale = 1./255)"
      ],
      "execution_count": 0,
      "outputs": []
    },
    {
      "cell_type": "code",
      "metadata": {
        "id": "asum7ZNdwbSN",
        "colab_type": "code",
        "outputId": "00374ef1-f8cf-4b59-9f93-37663616ecf6",
        "colab": {
          "base_uri": "https://localhost:8080/",
          "height": 34
        }
      },
      "source": [
        "training_set = train_datagen.flow_from_directory('drive/My Drive/dataset/train',\n",
        "                                                  target_size = (64,64),\n",
        "                                                  batch_size = 4,\n",
        "                                                  class_mode = 'binary')"
      ],
      "execution_count": 6,
      "outputs": [
        {
          "output_type": "stream",
          "text": [
            "Found 40 images belonging to 2 classes.\n"
          ],
          "name": "stdout"
        }
      ]
    },
    {
      "cell_type": "code",
      "metadata": {
        "id": "DAhYhmfWxO7Z",
        "colab_type": "code",
        "outputId": "10ec3045-35bd-4557-d48b-6a756c3d75bc",
        "colab": {
          "base_uri": "https://localhost:8080/",
          "height": 34
        }
      },
      "source": [
        "testing_set = train_datagen.flow_from_directory('drive/My Drive/dataset/test',\n",
        "                                                  target_size = (64,64),\n",
        "                                                  batch_size = 4,\n",
        "                                                  class_mode = 'binary')"
      ],
      "execution_count": 7,
      "outputs": [
        {
          "output_type": "stream",
          "text": [
            "Found 8 images belonging to 2 classes.\n"
          ],
          "name": "stdout"
        }
      ]
    },
    {
      "cell_type": "markdown",
      "metadata": {
        "id": "DavZ59a_83RW",
        "colab_type": "text"
      },
      "source": [
        "**Building Baseline Model**"
      ]
    },
    {
      "cell_type": "code",
      "metadata": {
        "id": "GvfPS-Q_xese",
        "colab_type": "code",
        "colab": {}
      },
      "source": [
        "#Building baseline model\n",
        "from keras.models import Sequential\n",
        "from keras.layers import Conv2D\n",
        "from keras.layers import MaxPooling2D\n",
        "from keras.layers import Flatten\n",
        "from keras.layers import Dense"
      ],
      "execution_count": 0,
      "outputs": []
    },
    {
      "cell_type": "code",
      "metadata": {
        "id": "fsCtgVkHyNC3",
        "colab_type": "code",
        "colab": {}
      },
      "source": [
        "classifier = Sequential()\n",
        "\n",
        "classifier.add(Conv2D(32, (3, 3), activation='relu', input_shape=(64, 64, 3)))\n",
        "classifier.add(MaxPooling2D(pool_size=(2, 2)))\n",
        "\n",
        "classifier.add(Conv2D(32, (3, 3), activation='relu'))\n",
        "classifier.add(MaxPooling2D(pool_size=(2, 2)))\n",
        "\n",
        "classifier.add(Flatten())\n",
        "\n",
        "classifier.add(Dense(units = 128, activation = 'relu'))\n",
        "classifier.add(Dense(units = 1, activation = 'sigmoid'))"
      ],
      "execution_count": 0,
      "outputs": []
    },
    {
      "cell_type": "code",
      "metadata": {
        "id": "jbJXHAvPztq7",
        "colab_type": "code",
        "outputId": "201391e6-3f3d-4a83-a745-0d45dd2c5f67",
        "colab": {
          "base_uri": "https://localhost:8080/",
          "height": 386
        }
      },
      "source": [
        "classifier.summary()"
      ],
      "execution_count": 10,
      "outputs": [
        {
          "output_type": "stream",
          "text": [
            "Model: \"sequential_1\"\n",
            "_________________________________________________________________\n",
            "Layer (type)                 Output Shape              Param #   \n",
            "=================================================================\n",
            "conv2d_1 (Conv2D)            (None, 62, 62, 32)        896       \n",
            "_________________________________________________________________\n",
            "max_pooling2d_1 (MaxPooling2 (None, 31, 31, 32)        0         \n",
            "_________________________________________________________________\n",
            "conv2d_2 (Conv2D)            (None, 29, 29, 32)        9248      \n",
            "_________________________________________________________________\n",
            "max_pooling2d_2 (MaxPooling2 (None, 14, 14, 32)        0         \n",
            "_________________________________________________________________\n",
            "flatten_1 (Flatten)          (None, 6272)              0         \n",
            "_________________________________________________________________\n",
            "dense_1 (Dense)              (None, 128)               802944    \n",
            "_________________________________________________________________\n",
            "dense_2 (Dense)              (None, 1)                 129       \n",
            "=================================================================\n",
            "Total params: 813,217\n",
            "Trainable params: 813,217\n",
            "Non-trainable params: 0\n",
            "_________________________________________________________________\n"
          ],
          "name": "stdout"
        }
      ]
    },
    {
      "cell_type": "code",
      "metadata": {
        "id": "VKNrQHCsz0Yx",
        "colab_type": "code",
        "colab": {}
      },
      "source": [
        "classifier.compile(optimizer = 'adam', loss = 'binary_crossentropy', metrics = ['accuracy'])"
      ],
      "execution_count": 0,
      "outputs": []
    },
    {
      "cell_type": "markdown",
      "metadata": {
        "id": "SJdX4oAB8_hm",
        "colab_type": "text"
      },
      "source": [
        "Training the Model"
      ]
    },
    {
      "cell_type": "code",
      "metadata": {
        "id": "ZpT8RlUx0L-i",
        "colab_type": "code",
        "outputId": "603490ef-c9bb-4863-cea0-a944fcff2a72",
        "colab": {
          "base_uri": "https://localhost:8080/",
          "height": 1000
        }
      },
      "source": [
        "classifier.fit_generator(training_set,\n",
        "                         steps_per_epoch = 40,\n",
        "                         epochs = 100,\n",
        "                         validation_data = testing_set,\n",
        "                         validation_steps = 8)"
      ],
      "execution_count": 12,
      "outputs": [
        {
          "output_type": "stream",
          "text": [
            "Epoch 1/100\n",
            "40/40 [==============================] - 7s 168ms/step - loss: 0.7221 - accuracy: 0.5250 - val_loss: 0.6906 - val_accuracy: 0.6250\n",
            "Epoch 2/100\n",
            "40/40 [==============================] - 5s 121ms/step - loss: 0.6757 - accuracy: 0.6562 - val_loss: 0.6945 - val_accuracy: 0.5312\n",
            "Epoch 3/100\n",
            "40/40 [==============================] - 5s 125ms/step - loss: 0.6535 - accuracy: 0.6812 - val_loss: 0.3753 - val_accuracy: 0.7500\n",
            "Epoch 4/100\n",
            "40/40 [==============================] - 5s 127ms/step - loss: 0.5595 - accuracy: 0.7125 - val_loss: 0.8273 - val_accuracy: 0.6562\n",
            "Epoch 5/100\n",
            "40/40 [==============================] - 5s 123ms/step - loss: 0.6020 - accuracy: 0.6938 - val_loss: 0.3002 - val_accuracy: 0.6250\n",
            "Epoch 6/100\n",
            "40/40 [==============================] - 5s 126ms/step - loss: 0.5336 - accuracy: 0.7875 - val_loss: 1.2339 - val_accuracy: 0.6875\n",
            "Epoch 7/100\n",
            "40/40 [==============================] - 5s 124ms/step - loss: 0.6306 - accuracy: 0.6750 - val_loss: 0.6556 - val_accuracy: 0.7188\n",
            "Epoch 8/100\n",
            "40/40 [==============================] - 5s 123ms/step - loss: 0.5784 - accuracy: 0.7312 - val_loss: 0.5346 - val_accuracy: 0.7188\n",
            "Epoch 9/100\n",
            "40/40 [==============================] - 5s 127ms/step - loss: 0.5184 - accuracy: 0.7750 - val_loss: 0.5561 - val_accuracy: 0.6562\n",
            "Epoch 10/100\n",
            "40/40 [==============================] - 5s 127ms/step - loss: 0.5412 - accuracy: 0.7437 - val_loss: 0.6330 - val_accuracy: 0.6875\n",
            "Epoch 11/100\n",
            "40/40 [==============================] - 5s 125ms/step - loss: 0.5597 - accuracy: 0.7812 - val_loss: 0.9716 - val_accuracy: 0.7188\n",
            "Epoch 12/100\n",
            "40/40 [==============================] - 5s 129ms/step - loss: 0.4808 - accuracy: 0.7625 - val_loss: 0.7927 - val_accuracy: 0.6562\n",
            "Epoch 13/100\n",
            "40/40 [==============================] - 5s 120ms/step - loss: 0.5567 - accuracy: 0.7563 - val_loss: 0.5316 - val_accuracy: 0.6250\n",
            "Epoch 14/100\n",
            "40/40 [==============================] - 5s 126ms/step - loss: 0.5046 - accuracy: 0.7750 - val_loss: 0.9640 - val_accuracy: 0.7188\n",
            "Epoch 15/100\n",
            "40/40 [==============================] - 5s 128ms/step - loss: 0.5677 - accuracy: 0.7437 - val_loss: 0.5770 - val_accuracy: 0.7500\n",
            "Epoch 16/100\n",
            "40/40 [==============================] - 5s 122ms/step - loss: 0.4563 - accuracy: 0.8000 - val_loss: 0.7384 - val_accuracy: 0.6875\n",
            "Epoch 17/100\n",
            "40/40 [==============================] - 5s 126ms/step - loss: 0.5242 - accuracy: 0.7812 - val_loss: 0.9329 - val_accuracy: 0.6875\n",
            "Epoch 18/100\n",
            "40/40 [==============================] - 5s 126ms/step - loss: 0.4926 - accuracy: 0.7875 - val_loss: 0.6315 - val_accuracy: 0.6562\n",
            "Epoch 19/100\n",
            "40/40 [==============================] - 5s 126ms/step - loss: 0.5596 - accuracy: 0.7437 - val_loss: 0.8193 - val_accuracy: 0.7812\n",
            "Epoch 20/100\n",
            "40/40 [==============================] - 5s 126ms/step - loss: 0.4844 - accuracy: 0.8062 - val_loss: 1.2018 - val_accuracy: 0.6562\n",
            "Epoch 21/100\n",
            "40/40 [==============================] - 5s 126ms/step - loss: 0.4754 - accuracy: 0.8000 - val_loss: 0.1722 - val_accuracy: 0.7188\n",
            "Epoch 22/100\n",
            "40/40 [==============================] - 5s 126ms/step - loss: 0.5123 - accuracy: 0.7500 - val_loss: 0.3272 - val_accuracy: 0.7812\n",
            "Epoch 23/100\n",
            "40/40 [==============================] - 5s 126ms/step - loss: 0.4831 - accuracy: 0.8125 - val_loss: 0.1929 - val_accuracy: 0.7188\n",
            "Epoch 24/100\n",
            "40/40 [==============================] - 5s 126ms/step - loss: 0.5116 - accuracy: 0.7500 - val_loss: 0.5925 - val_accuracy: 0.7500\n",
            "Epoch 25/100\n",
            "40/40 [==============================] - 5s 125ms/step - loss: 0.5120 - accuracy: 0.7563 - val_loss: 0.2542 - val_accuracy: 0.6250\n",
            "Epoch 26/100\n",
            "40/40 [==============================] - 5s 131ms/step - loss: 0.4665 - accuracy: 0.8125 - val_loss: 0.5893 - val_accuracy: 0.6875\n",
            "Epoch 27/100\n",
            "40/40 [==============================] - 5s 126ms/step - loss: 0.4709 - accuracy: 0.7875 - val_loss: 1.5169 - val_accuracy: 0.6250\n",
            "Epoch 28/100\n",
            "40/40 [==============================] - 5s 123ms/step - loss: 0.5144 - accuracy: 0.7312 - val_loss: 0.6259 - val_accuracy: 0.7500\n",
            "Epoch 29/100\n",
            "40/40 [==============================] - 5s 122ms/step - loss: 0.4855 - accuracy: 0.7625 - val_loss: 0.8738 - val_accuracy: 0.6875\n",
            "Epoch 30/100\n",
            "40/40 [==============================] - 5s 126ms/step - loss: 0.4687 - accuracy: 0.7812 - val_loss: 0.8624 - val_accuracy: 0.7500\n",
            "Epoch 31/100\n",
            "40/40 [==============================] - 5s 126ms/step - loss: 0.4471 - accuracy: 0.7937 - val_loss: 0.1237 - val_accuracy: 0.6875\n",
            "Epoch 32/100\n",
            "40/40 [==============================] - 5s 126ms/step - loss: 0.5053 - accuracy: 0.7500 - val_loss: 1.1067 - val_accuracy: 0.6562\n",
            "Epoch 33/100\n",
            "40/40 [==============================] - 5s 126ms/step - loss: 0.5436 - accuracy: 0.7375 - val_loss: 0.4945 - val_accuracy: 0.6875\n",
            "Epoch 34/100\n",
            "40/40 [==============================] - 5s 126ms/step - loss: 0.5064 - accuracy: 0.7563 - val_loss: 0.5736 - val_accuracy: 0.6562\n",
            "Epoch 35/100\n",
            "40/40 [==============================] - 5s 128ms/step - loss: 0.4835 - accuracy: 0.7937 - val_loss: 0.3711 - val_accuracy: 0.6562\n",
            "Epoch 36/100\n",
            "40/40 [==============================] - 5s 126ms/step - loss: 0.5165 - accuracy: 0.7375 - val_loss: 0.4331 - val_accuracy: 0.7500\n",
            "Epoch 37/100\n",
            "40/40 [==============================] - 5s 126ms/step - loss: 0.4853 - accuracy: 0.8062 - val_loss: 0.5416 - val_accuracy: 0.6250\n",
            "Epoch 38/100\n",
            "40/40 [==============================] - 5s 126ms/step - loss: 0.5258 - accuracy: 0.7563 - val_loss: 0.4272 - val_accuracy: 0.5625\n",
            "Epoch 39/100\n",
            "40/40 [==============================] - 5s 131ms/step - loss: 0.4708 - accuracy: 0.7937 - val_loss: 0.3530 - val_accuracy: 0.8438\n",
            "Epoch 40/100\n",
            "40/40 [==============================] - 5s 131ms/step - loss: 0.4987 - accuracy: 0.7937 - val_loss: 0.5400 - val_accuracy: 0.7188\n",
            "Epoch 41/100\n",
            "40/40 [==============================] - 5s 128ms/step - loss: 0.4900 - accuracy: 0.7812 - val_loss: 0.3870 - val_accuracy: 0.6562\n",
            "Epoch 42/100\n",
            "40/40 [==============================] - 5s 123ms/step - loss: 0.4700 - accuracy: 0.8125 - val_loss: 0.3042 - val_accuracy: 0.6250\n",
            "Epoch 43/100\n",
            "40/40 [==============================] - 5s 126ms/step - loss: 0.4736 - accuracy: 0.8188 - val_loss: 0.1720 - val_accuracy: 0.6875\n",
            "Epoch 44/100\n",
            "40/40 [==============================] - 5s 125ms/step - loss: 0.5230 - accuracy: 0.7563 - val_loss: 0.6448 - val_accuracy: 0.6875\n",
            "Epoch 45/100\n",
            "40/40 [==============================] - 5s 126ms/step - loss: 0.5112 - accuracy: 0.7875 - val_loss: 0.2862 - val_accuracy: 0.7500\n",
            "Epoch 46/100\n",
            "40/40 [==============================] - 5s 126ms/step - loss: 0.5260 - accuracy: 0.7500 - val_loss: 0.3750 - val_accuracy: 0.7188\n",
            "Epoch 47/100\n",
            "40/40 [==============================] - 5s 125ms/step - loss: 0.4961 - accuracy: 0.7688 - val_loss: 0.7160 - val_accuracy: 0.6875\n",
            "Epoch 48/100\n",
            "40/40 [==============================] - 5s 130ms/step - loss: 0.4692 - accuracy: 0.7625 - val_loss: 0.4892 - val_accuracy: 0.7500\n",
            "Epoch 49/100\n",
            "40/40 [==============================] - 5s 126ms/step - loss: 0.4653 - accuracy: 0.8000 - val_loss: 0.3911 - val_accuracy: 0.8125\n",
            "Epoch 50/100\n",
            "40/40 [==============================] - 5s 128ms/step - loss: 0.4655 - accuracy: 0.7937 - val_loss: 0.9014 - val_accuracy: 0.6875\n",
            "Epoch 51/100\n",
            "40/40 [==============================] - 5s 123ms/step - loss: 0.5013 - accuracy: 0.7688 - val_loss: 0.9554 - val_accuracy: 0.6250\n",
            "Epoch 52/100\n",
            "40/40 [==============================] - 5s 126ms/step - loss: 0.4379 - accuracy: 0.8062 - val_loss: 0.7227 - val_accuracy: 0.6562\n",
            "Epoch 53/100\n",
            "40/40 [==============================] - 5s 125ms/step - loss: 0.4869 - accuracy: 0.7625 - val_loss: 0.7847 - val_accuracy: 0.6875\n",
            "Epoch 54/100\n",
            "40/40 [==============================] - 5s 131ms/step - loss: 0.4767 - accuracy: 0.8062 - val_loss: 0.3804 - val_accuracy: 0.6562\n",
            "Epoch 55/100\n",
            "40/40 [==============================] - 5s 129ms/step - loss: 0.4958 - accuracy: 0.7375 - val_loss: 0.6542 - val_accuracy: 0.8125\n",
            "Epoch 56/100\n",
            "40/40 [==============================] - 5s 131ms/step - loss: 0.4604 - accuracy: 0.8125 - val_loss: 0.5950 - val_accuracy: 0.6562\n",
            "Epoch 57/100\n",
            "40/40 [==============================] - 5s 123ms/step - loss: 0.4717 - accuracy: 0.7812 - val_loss: 0.5070 - val_accuracy: 0.6875\n",
            "Epoch 58/100\n",
            "40/40 [==============================] - 5s 125ms/step - loss: 0.4640 - accuracy: 0.8000 - val_loss: 0.7349 - val_accuracy: 0.6875\n",
            "Epoch 59/100\n",
            "40/40 [==============================] - 5s 124ms/step - loss: 0.5706 - accuracy: 0.7625 - val_loss: 0.7468 - val_accuracy: 0.7188\n",
            "Epoch 60/100\n",
            "40/40 [==============================] - 5s 131ms/step - loss: 0.5071 - accuracy: 0.7750 - val_loss: 0.4947 - val_accuracy: 0.7188\n",
            "Epoch 61/100\n",
            "40/40 [==============================] - 5s 124ms/step - loss: 0.4711 - accuracy: 0.8000 - val_loss: 0.5724 - val_accuracy: 0.7188\n",
            "Epoch 62/100\n",
            "40/40 [==============================] - 5s 128ms/step - loss: 0.4902 - accuracy: 0.7437 - val_loss: 0.5294 - val_accuracy: 0.5938\n",
            "Epoch 63/100\n",
            "40/40 [==============================] - 5s 126ms/step - loss: 0.5164 - accuracy: 0.8062 - val_loss: 0.9082 - val_accuracy: 0.6875\n",
            "Epoch 64/100\n",
            "40/40 [==============================] - 5s 123ms/step - loss: 0.4621 - accuracy: 0.7875 - val_loss: 0.6264 - val_accuracy: 0.6250\n",
            "Epoch 65/100\n",
            "40/40 [==============================] - 5s 124ms/step - loss: 0.5474 - accuracy: 0.7688 - val_loss: 0.6163 - val_accuracy: 0.6562\n",
            "Epoch 66/100\n",
            "40/40 [==============================] - 5s 124ms/step - loss: 0.4787 - accuracy: 0.7625 - val_loss: 0.9482 - val_accuracy: 0.6250\n",
            "Epoch 67/100\n",
            "40/40 [==============================] - 5s 127ms/step - loss: 0.4929 - accuracy: 0.7688 - val_loss: 0.4656 - val_accuracy: 0.6875\n",
            "Epoch 68/100\n",
            "40/40 [==============================] - 5s 126ms/step - loss: 0.5031 - accuracy: 0.8000 - val_loss: 0.4299 - val_accuracy: 0.7188\n",
            "Epoch 69/100\n",
            "40/40 [==============================] - 5s 128ms/step - loss: 0.4407 - accuracy: 0.8062 - val_loss: 0.1932 - val_accuracy: 0.7500\n",
            "Epoch 70/100\n",
            "40/40 [==============================] - 5s 121ms/step - loss: 0.4261 - accuracy: 0.8250 - val_loss: 1.4380 - val_accuracy: 0.7188\n",
            "Epoch 71/100\n",
            "40/40 [==============================] - 5s 129ms/step - loss: 0.4645 - accuracy: 0.7937 - val_loss: 0.8569 - val_accuracy: 0.7812\n",
            "Epoch 72/100\n",
            "40/40 [==============================] - 5s 122ms/step - loss: 0.4992 - accuracy: 0.7812 - val_loss: 0.8043 - val_accuracy: 0.6875\n",
            "Epoch 73/100\n",
            "40/40 [==============================] - 5s 123ms/step - loss: 0.4669 - accuracy: 0.7563 - val_loss: 0.2333 - val_accuracy: 0.6875\n",
            "Epoch 74/100\n",
            "40/40 [==============================] - 5s 123ms/step - loss: 0.5101 - accuracy: 0.7688 - val_loss: 0.5896 - val_accuracy: 0.7188\n",
            "Epoch 75/100\n",
            "40/40 [==============================] - 5s 126ms/step - loss: 0.4044 - accuracy: 0.8000 - val_loss: 0.2805 - val_accuracy: 0.6562\n",
            "Epoch 76/100\n",
            "40/40 [==============================] - 5s 128ms/step - loss: 0.3886 - accuracy: 0.8000 - val_loss: 0.5379 - val_accuracy: 0.6562\n",
            "Epoch 77/100\n",
            "40/40 [==============================] - 5s 126ms/step - loss: 0.5337 - accuracy: 0.7750 - val_loss: 1.6030 - val_accuracy: 0.6250\n",
            "Epoch 78/100\n",
            "40/40 [==============================] - 5s 129ms/step - loss: 0.4557 - accuracy: 0.7812 - val_loss: 0.4952 - val_accuracy: 0.7188\n",
            "Epoch 79/100\n",
            "40/40 [==============================] - 5s 128ms/step - loss: 0.4964 - accuracy: 0.7812 - val_loss: 0.7279 - val_accuracy: 0.5938\n",
            "Epoch 80/100\n",
            "40/40 [==============================] - 5s 123ms/step - loss: 0.5181 - accuracy: 0.7563 - val_loss: 0.6959 - val_accuracy: 0.6562\n",
            "Epoch 81/100\n",
            "40/40 [==============================] - 5s 128ms/step - loss: 0.4642 - accuracy: 0.7688 - val_loss: 0.4737 - val_accuracy: 0.6562\n",
            "Epoch 82/100\n",
            "40/40 [==============================] - 5s 124ms/step - loss: 0.4334 - accuracy: 0.8188 - val_loss: 0.2698 - val_accuracy: 0.7188\n",
            "Epoch 83/100\n",
            "40/40 [==============================] - 5s 127ms/step - loss: 0.4254 - accuracy: 0.8125 - val_loss: 0.7255 - val_accuracy: 0.6875\n",
            "Epoch 84/100\n",
            "40/40 [==============================] - 5s 128ms/step - loss: 0.4778 - accuracy: 0.7750 - val_loss: 0.5062 - val_accuracy: 0.7500\n",
            "Epoch 85/100\n",
            "40/40 [==============================] - 5s 125ms/step - loss: 0.4724 - accuracy: 0.7875 - val_loss: 0.9053 - val_accuracy: 0.6562\n",
            "Epoch 86/100\n",
            "40/40 [==============================] - 5s 128ms/step - loss: 0.4800 - accuracy: 0.7563 - val_loss: 0.6987 - val_accuracy: 0.6875\n",
            "Epoch 87/100\n",
            "40/40 [==============================] - 5s 123ms/step - loss: 0.4520 - accuracy: 0.8000 - val_loss: 0.5168 - val_accuracy: 0.7812\n",
            "Epoch 88/100\n",
            "40/40 [==============================] - 5s 127ms/step - loss: 0.4781 - accuracy: 0.8125 - val_loss: 0.5788 - val_accuracy: 0.7188\n",
            "Epoch 89/100\n",
            "40/40 [==============================] - 5s 129ms/step - loss: 0.4901 - accuracy: 0.7937 - val_loss: 0.5613 - val_accuracy: 0.7500\n",
            "Epoch 90/100\n",
            "40/40 [==============================] - 5s 125ms/step - loss: 0.4380 - accuracy: 0.8062 - val_loss: 0.9230 - val_accuracy: 0.5938\n",
            "Epoch 91/100\n",
            "40/40 [==============================] - 5s 124ms/step - loss: 0.4634 - accuracy: 0.8000 - val_loss: 0.7633 - val_accuracy: 0.8125\n",
            "Epoch 92/100\n",
            "40/40 [==============================] - 5s 128ms/step - loss: 0.4593 - accuracy: 0.8125 - val_loss: 0.5468 - val_accuracy: 0.7188\n",
            "Epoch 93/100\n",
            "40/40 [==============================] - 5s 127ms/step - loss: 0.4798 - accuracy: 0.7750 - val_loss: 0.2181 - val_accuracy: 0.7500\n",
            "Epoch 94/100\n",
            "40/40 [==============================] - 5s 125ms/step - loss: 0.5289 - accuracy: 0.7563 - val_loss: 0.6001 - val_accuracy: 0.6562\n",
            "Epoch 95/100\n",
            "40/40 [==============================] - 5s 126ms/step - loss: 0.4541 - accuracy: 0.8000 - val_loss: 0.6371 - val_accuracy: 0.6250\n",
            "Epoch 96/100\n",
            "40/40 [==============================] - 5s 130ms/step - loss: 0.4578 - accuracy: 0.7875 - val_loss: 0.2430 - val_accuracy: 0.6250\n",
            "Epoch 97/100\n",
            "40/40 [==============================] - 5s 121ms/step - loss: 0.4244 - accuracy: 0.8375 - val_loss: 0.4992 - val_accuracy: 0.7500\n",
            "Epoch 98/100\n",
            "40/40 [==============================] - 5s 126ms/step - loss: 0.5180 - accuracy: 0.7750 - val_loss: 0.3120 - val_accuracy: 0.7500\n",
            "Epoch 99/100\n",
            "40/40 [==============================] - 5s 120ms/step - loss: 0.4339 - accuracy: 0.8250 - val_loss: 0.5000 - val_accuracy: 0.6875\n",
            "Epoch 100/100\n",
            "40/40 [==============================] - 5s 121ms/step - loss: 0.4426 - accuracy: 0.7937 - val_loss: 0.5931 - val_accuracy: 0.6250\n"
          ],
          "name": "stdout"
        },
        {
          "output_type": "execute_result",
          "data": {
            "text/plain": [
              "<keras.callbacks.callbacks.History at 0x7f2712187fd0>"
            ]
          },
          "metadata": {
            "tags": []
          },
          "execution_count": 12
        }
      ]
    },
    {
      "cell_type": "code",
      "metadata": {
        "id": "uZkHnH570aWz",
        "colab_type": "code",
        "colab": {}
      },
      "source": [
        "import numpy as np\n",
        "from keras.preprocessing import image"
      ],
      "execution_count": 0,
      "outputs": []
    },
    {
      "cell_type": "markdown",
      "metadata": {
        "id": "dkbTuGKP9ceM",
        "colab_type": "text"
      },
      "source": [
        "Making Prediction"
      ]
    },
    {
      "cell_type": "code",
      "metadata": {
        "id": "5s1jESBR97O7",
        "colab_type": "code",
        "colab": {
          "base_uri": "https://localhost:8080/",
          "height": 34
        },
        "outputId": "4b89d932-5d95-43f3-fa0b-2964adc6d672"
      },
      "source": [
        "training_set.class_indices"
      ],
      "execution_count": 33,
      "outputs": [
        {
          "output_type": "execute_result",
          "data": {
            "text/plain": [
              "{'covid': 0, 'normal': 1}"
            ]
          },
          "metadata": {
            "tags": []
          },
          "execution_count": 33
        }
      ]
    },
    {
      "cell_type": "code",
      "metadata": {
        "id": "vrKryQ369XKa",
        "colab_type": "code",
        "colab": {}
      },
      "source": [
        "def make_prediction(image_path):\n",
        "  test_image = image.load_img(image_path, target_size = (64, 64))\n",
        "  test_image = image.img_to_array(test_image)\n",
        "  test_image = np.expand_dims(test_image, axis = 0)\n",
        "  result = classifier.predict(test_image)\n",
        "  if result[0][0] == 0:\n",
        "    print('COVID')\n",
        "  else:\n",
        "    print('NORMAL')"
      ],
      "execution_count": 0,
      "outputs": []
    },
    {
      "cell_type": "code",
      "metadata": {
        "id": "K0Xkeyqs-SaP",
        "colab_type": "code",
        "colab": {
          "base_uri": "https://localhost:8080/",
          "height": 34
        },
        "outputId": "8d387e35-a37d-40a9-fc07-8ae22306c168"
      },
      "source": [
        "make_prediction('/content/drive/My Drive/dataset/single_prediction/covid_or_normal_2.jpeg')"
      ],
      "execution_count": 37,
      "outputs": [
        {
          "output_type": "stream",
          "text": [
            "COVID\n"
          ],
          "name": "stdout"
        }
      ]
    },
    {
      "cell_type": "code",
      "metadata": {
        "id": "wxYJtXtqBdU_",
        "colab_type": "code",
        "colab": {}
      },
      "source": [
        ""
      ],
      "execution_count": 0,
      "outputs": []
    }
  ]
}